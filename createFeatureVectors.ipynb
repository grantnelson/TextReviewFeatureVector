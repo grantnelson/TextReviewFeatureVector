{
 "cells": [
  {
   "cell_type": "markdown",
   "metadata": {
    "deletable": false,
    "editable": false,
    "nbgrader": {
     "checksum": "eabf93ae2e638406e35e0e41afbf354b",
     "grade": false,
     "grade_id": "cell-50cd7d156830d619",
     "locked": true,
     "schema_version": 1,
     "solution": false
    }
  },
  {
   "cell_type": "markdown",
   "metadata": {},
   "source": [
    "Student 1 Name: Grant Nelson\n",
    "\n",
    "Student 2 Name: Tamara Zubatiy\n",
    "\n",
   ]
  },
  {
   "cell_type": "code",
   "execution_count": 1,
   "metadata": {
    "collapsed": true
   },
   "outputs": [],
   "source": [
    "import os \n",
    "import os \n",
    "import string\n",
    "import collections\n",
    "#cleanup method cleans up the intext string of punctuation, numbers and stop words etc.\n",
    "#and returns a lowercase string"
   ]
  },
  {
   "cell_type": "code",
   "execution_count": 2,
   "metadata": {
    "collapsed": true,
    "deletable": false,
    "nbgrader": {
     "checksum": "fafe89a205c9dae1549597acdcf55ac6",
     "grade": false,
     "grade_id": "cell-4486cbb7b54842e9",
     "locked": false,
     "schema_version": 1,
     "solution": true
    }
   },
   "outputs": [],
   "source": [
    "def cleanup(intext):\n",
    "    \n",
    "    stopwords = [\" a \", \" able \", \" about \", \" am \", \n",
    "                 \" an \", \" and \", \" are \", \" as \", \" at \", \n",
    "                 \" be \", \" by \", \" for \", \" from \", \" he \", \n",
    "                 \" her \", \" hers \", \" him \", \" his \", \" in \", \n",
    "                 \" is \", \" it \", \" its \", \" of \", \" on \", \" or \", \n",
    "                 \" since \", \" than \", \" that \", \" the \", \" their \", \n",
    "                 \" them \", \" then \", \" there \", \" these \",  \" this \", \" to \"]\n",
    "    \n",
    "    intext= str(intext)\n",
    "    intext = intext.replace('!', ' exclamationmark ')    \n",
    "    intext = intext.replace('?', ' questionmark ')    \n",
    "    \n",
    "    intext = \" \" + intext + \" \"   \n",
    "    intext = intext.lower()\n",
    "    \n",
    "    for mark in string.punctuation:       \n",
    "        intext=intext.replace(mark,\"\")\n",
    "        \n",
    "    for mark in string.digits: \n",
    "        intext=intext.replace(mark,\"\")\n",
    "\n",
    "    for word in stopwords:\n",
    "        intext = intext.replace(word, \" \")\n",
    "        intext = intext.replace(\"  \", \" \")\n",
    "        \n",
    "    def correct_replace(s):\n",
    "        s = \" \" + s + \" \"\n",
    "        for w in stopwords:\n",
    "            while w in s:\n",
    "                s = s.replace(w, \" \")\n",
    "        return s\n",
    "    \n",
    "    intext= correct_replace(intext)\n",
    "    return intext   "
   ]
  },
  {
   "cell_type": "code",
   "execution_count": 3,
   "metadata": {
    "collapsed": true,
    "deletable": false,
    "editable": false,
    "nbgrader": {
     "checksum": "b1b2f42f6ee647155ef26fd3f960e6ef",
     "grade": true,
     "grade_id": "cell-e5a2c033c0167a99",
     "locked": true,
     "points": 5,
     "schema_version": 1,
     "solution": false
    }
   },
   "outputs": [],
   "source": [
    "# This is a simple test for you to test your cleanup function.\n",
    "assert cleanup(\"Great movie! GREAT!\").split() == ['great', 'movie', 'exclamationmark', 'great', 'exclamationmark']"
   ]
  },
  {
   "cell_type": "code",
   "execution_count": 4,
   "metadata": {
    "collapsed": true,
    "deletable": false,
    "editable": false,
    "nbgrader": {
     "checksum": "07f8976f3ba7dbfe26c6ef402467202e",
     "grade": true,
     "grade_id": "cell-3f3c62e3c77d9142",
     "locked": true,
     "points": 5,
     "schema_version": 1,
     "solution": false
    }
   },
   "outputs": [],
   "source": [
    "# This is another simple test for you to test your cleanup function.\n",
    "assert cleanup(\"I have seen 12345 movies like this.\").split() == [\"i\", \"have\", \"seen\", \"movies\", \"like\"]"
   ]
  },
  {
   "cell_type": "code",
   "execution_count": 5,
   "metadata": {
    "collapsed": true,
    "deletable": false,
    "nbgrader": {
     "checksum": "4d1cef3924d2e7a7ac8a39792f63c0f7",
     "grade": false,
     "grade_id": "cell-07dff50164bd24ac",
     "locked": false,
     "schema_version": 1,
     "solution": true
    }
   },
   "outputs": [],
   "source": [
    "def directory2Vocab(dirName):    \n",
    "    #start with an empty set    \n",
    "    #open a new file, vocab.txt, in the “w” mode.   \n",
    "        vocab = set()\n",
    "    \n",
    "        \n",
    "    \n",
    "    #open file in read format \n",
    "    #read file as a string      \n",
    "    #clean up the string by calling cleanup method  \n",
    "    #split the cleaned strings into words in a list      \n",
    "    #add the set made from word list into the vocabSet set      \n",
    "    #write the contents of the vocab set in the vocabfile          \n",
    "        allFiles = os.listdir(dirName)\n",
    "        for f in allFiles: \n",
    "            f1 = open(os.path.join(dirName, f), \"r\").read()\n",
    "            clean = cleanup(f1).split()\n",
    "    #get rid of duplicates\n",
    "            \n",
    "            clean= set(clean)\n",
    "            vocab= vocab | clean\n",
    "        fName= \"Vocab.txt\"\n",
    "        vocabFile= open(fName, 'w')\n",
    "            \n",
    "        for item in (vocab):\n",
    "            vocabFile.write(item+ \" \\n\")\n",
    "           \n",
    "            \n",
    "        vocabFile.close()"
   ]
  },
  {
   "cell_type": "code",
   "execution_count": 6,
   "metadata": {
    "collapsed": true,
    "deletable": false,
    "editable": false,
    "nbgrader": {
     "checksum": "84c69698f9a6b69f1d166f182ced028c",
     "grade": true,
     "grade_id": "cell-d36f6025a1bfaa4e",
     "locked": true,
     "points": 10,
     "schema_version": 1,
     "solution": false
    }
   },
   "outputs": [],
   "source": [
    "# Test to make sure you have the vocab files created after run.\n",
    "directory2Vocab('MovieReviews')\n",
    "assert os.path.isfile('Vocab.txt') == True"
   ]
  },
  {
   "cell_type": "code",
   "execution_count": 7,
   "metadata": {
    "collapsed": true,
    "deletable": false,
    "editable": false,
    "nbgrader": {
     "checksum": "4e973ecfca03f22c3cf94ef0d1607b1c",
     "grade": true,
     "grade_id": "cell-610d012cae422602",
     "locked": true,
     "points": 10,
     "schema_version": 1,
     "solution": false
    }
   },
   "outputs": [],
   "source": [
    "# Test to make sure you have punctuations, stop_words, digits removed\n",
    "vocabFile = open('Vocab.txt', 'r')\n",
    "vocab = vocabFile.readlines()\n",
    "assert (\"a\\n\" in vocab) == False\n",
    "assert (\".\\n\" in vocab) == False\n",
    "assert (\"3\\n\" in vocab) == False"
   ]
  },
  {
   "cell_type": "code",
   "execution_count": 8,
   "metadata": {
    "collapsed": true,
    "deletable": false,
    "nbgrader": {
     "checksum": "1c2710b04051bb7fef0fcdb7820459ee",
     "grade": false,
     "grade_id": "cell-95b6b48ca2eca489",
     "locked": false,
     "schema_version": 1,
     "solution": true
    }
   },
   "outputs": [],
   "source": [
    "def directory2Features(dirName, vocabFilename):\n",
    "    vocabList = []\n",
    "    with open(vocabFilename, 'r') as vocabFile:\n",
    "        vocabList = vocabFile.read().split()\n",
    "    with open(\"{}_fVectors.txt\".format(dirName), 'w') as featureFile:\n",
    "        for reviewFilename in os.listdir(dirName):\n",
    "            score = reviewFilename.split('.')[0].split('_')[-1]\n",
    "            counts = [0]*len(vocabList)\n",
    "            with open(os.path.join(dirName, reviewFilename), 'r') as reviewFile:\n",
    "                fileContent = cleanup(reviewFile.read())\n",
    "                for word in fileContent.split():\n",
    "                    counts[vocabList.index(word)] += 1\n",
    "            featureFile.write(\"{} {}\\n\".format(score,\n",
    "                                              \" \".join(\"{}:{}\".format(index, count)\n",
    "                                                        for index, count in enumerate(counts) if count> 0)))"
   ]
  },
  {
   "cell_type": "code",
   "execution_count": 9,
   "metadata": {
    "collapsed": true,
    "deletable": false,
    "editable": false,
    "nbgrader": {
     "checksum": "7f6efefe68f33bd14c3fc2b90128e6e9",
     "grade": true,
     "grade_id": "cell-54788abc11cd108e",
     "locked": true,
     "points": 20,
     "schema_version": 1,
     "solution": false
    }
   },
   "outputs": [],
   "source": [
    "# Test to make sure you have the fVectors files created after run.\n",
    "directory2Features('MovieReviews', \"Vocab.txt\")\n",
    "assert os.path.isfile('MovieReviews_fVectors.txt') == True"
   ]
  },
  {
   "cell_type": "code",
   "execution_count": 10,
   "metadata": {
    "collapsed": true,
    "deletable": false,
    "editable": false,
    "nbgrader": {
     "checksum": "41ca329c45acfa9ef8b19a0b98c0fe1b",
     "grade": false,
     "grade_id": "cell-6d0863d6639d3f38",
     "locked": true,
     "schema_version": 1,
     "solution": false
    }
   },
   "outputs": [],
   "source": [
    "def createFeatureVectors(dirName):\n",
    "    directory2Vocab(dirName)\n",
    "    directory2Features(dirName, \"Vocab.txt\")"
   ]
  },
  {
   "cell_type": "code",
   "execution_count": null,
   "metadata": {
    "collapsed": true
   },
   "outputs": [],
   "source": []
  }
 ],
 "metadata": {
  "kernelspec": {
   "display_name": "Python 2",
   "language": "python",
   "name": "python2"
  },
  "language_info": {
   "codemirror_mode": {
    "name": "ipython",
    "version": 2
   },
   "file_extension": ".py",
   "mimetype": "text/x-python",
   "name": "python",
   "nbconvert_exporter": "python",
   "pygments_lexer": "ipython2",
   "version": "2.7.13"
  }
 },
 "nbformat": 4,
 "nbformat_minor": 1
}
